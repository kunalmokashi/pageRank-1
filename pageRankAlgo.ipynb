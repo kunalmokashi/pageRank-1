{
 "cells": [
  {
   "cell_type": "code",
   "execution_count": 1,
   "metadata": {},
   "outputs": [],
   "source": [
    "import numpy as np"
   ]
  },
  {
   "cell_type": "code",
   "execution_count": 22,
   "metadata": {},
   "outputs": [],
   "source": [
    "beta = 0.8\n",
    "tol = 10**-6"
   ]
  },
  {
   "cell_type": "code",
   "execution_count": 2,
   "metadata": {},
   "outputs": [],
   "source": [
    "def getGraphData(file):\n",
    "    graphEdges = dict()\n",
    "    with open(file) as fp:\n",
    "        line = fp.readline()\n",
    "        while line:\n",
    "            lineL = [ int(node) for node in line.strip().split('\\t')]\n",
    "            if graphEdges.get(lineL[0]):\n",
    "                graphEdges[lineL[0]].append(lineL[1])\n",
    "            else:\n",
    "                graphEdges[lineL[0]] = [lineL[1]]\n",
    "            line = fp.readline()\n",
    "    return graphEdges\n",
    "\n",
    "graphEdges = getGraphData('web-Stanford.txt')\n"
   ]
  },
  {
   "cell_type": "code",
   "execution_count": 21,
   "metadata": {},
   "outputs": [
    {
     "name": "stdout",
     "output_type": "stream",
     "text": [
      "Number of nodes using is 281903\n"
     ]
    }
   ],
   "source": [
    "numberOfNodes = sorted(graphEdges.keys(), reverse=True)[:1][0]\n",
    "print(\"Number of nodes using is\", numberOfNodes)"
   ]
  },
  {
   "cell_type": "code",
   "execution_count": 20,
   "metadata": {},
   "outputs": [],
   "source": [
    "def createMatrixFromGraph(graph, size):\n",
    "    matrix = np.zeros((size, size))\n",
    "    for node in graph.keys():\n",
    "        nodeKey = node\n",
    "        nodeValues = graph.get(node)\n",
    "        nodesCount = len(nodeValues)\n",
    "        eachNodeVal = 1 / nodesCount\n",
    "        # for handling duplicates\n",
    "        valDict = dict()\n",
    "        for val in nodeValues:\n",
    "            if valDict.get(val):\n",
    "                valDict[val] = valDict.get(val) + 1\n",
    "            else:\n",
    "                valDict[val] = 1\n",
    "\n",
    "        for nodeVal in list(set(nodeValues)):\n",
    "            # To match node and matrix indices: node = matrix indices + 1\n",
    "            count = valDict.get(nodeVal)\n",
    "            matrix[nodeVal-1][node-1] = count * float(eachNodeVal)\n",
    "    return matrix\n",
    "\n",
    "matrix = createMatrixFromGraph(graphEdges, numberOfNodes)"
   ]
  },
  {
   "cell_type": "code",
   "execution_count": null,
   "metadata": {},
   "outputs": [],
   "source": []
  },
  {
   "cell_type": "code",
   "execution_count": null,
   "metadata": {},
   "outputs": [],
   "source": []
  },
  {
   "cell_type": "code",
   "execution_count": null,
   "metadata": {},
   "outputs": [],
   "source": []
  },
  {
   "cell_type": "code",
   "execution_count": null,
   "metadata": {},
   "outputs": [],
   "source": []
  },
  {
   "cell_type": "code",
   "execution_count": null,
   "metadata": {},
   "outputs": [],
   "source": []
  }
 ],
 "metadata": {
  "kernelspec": {
   "display_name": "Python 3",
   "language": "python",
   "name": "python3"
  },
  "language_info": {
   "codemirror_mode": {
    "name": "ipython",
    "version": 3
   },
   "file_extension": ".py",
   "mimetype": "text/x-python",
   "name": "python",
   "nbconvert_exporter": "python",
   "pygments_lexer": "ipython3",
   "version": "3.7.3"
  }
 },
 "nbformat": 4,
 "nbformat_minor": 4
}

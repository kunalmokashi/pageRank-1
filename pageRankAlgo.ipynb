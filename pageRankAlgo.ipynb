{
 "cells": [
  {
   "cell_type": "code",
   "execution_count": 26,
   "metadata": {},
   "outputs": [],
   "source": [
    "import numpy as np\n",
    "from scipy import sparse"
   ]
  },
  {
   "cell_type": "code",
   "execution_count": 27,
   "metadata": {},
   "outputs": [],
   "source": [
    "beta = 0.8\n",
    "tolerance = 10**-10"
   ]
  },
  {
   "cell_type": "code",
   "execution_count": 28,
   "metadata": {},
   "outputs": [],
   "source": [
    "def getGraphData(file):\n",
    "    graphEdges = dict()\n",
    "    with open(file) as fp:\n",
    "        line = fp.readline()\n",
    "        while line:\n",
    "            lineL = [ int(node) for node in line.strip().split('\\t')]\n",
    "            if graphEdges.get(lineL[0]):\n",
    "                graphEdges[lineL[0]].append(lineL[1])\n",
    "            else:\n",
    "                graphEdges[lineL[0]] = [lineL[1]]\n",
    "            line = fp.readline()\n",
    "    return graphEdges\n",
    "\n",
    "graphEdges = getGraphData('web-Stanford.txt')\n"
   ]
  },
  {
   "cell_type": "code",
   "execution_count": 29,
   "metadata": {},
   "outputs": [
    {
     "name": "stdout",
     "output_type": "stream",
     "text": [
      "Number of nodes using is 281903\n"
     ]
    }
   ],
   "source": [
    "numberOfNodes = sorted(graphEdges.keys(), reverse=True)[:1][0]\n",
    "print(\"Number of nodes using is\", numberOfNodes)"
   ]
  },
  {
   "cell_type": "code",
   "execution_count": 30,
   "metadata": {},
   "outputs": [],
   "source": [
    "def createMatrixFromGraph(graph, size):\n",
    "    matrix = np.zeros((size, size))\n",
    "    for node in graph.keys():\n",
    "        nodeKey = node\n",
    "        nodeValues = graph.get(node)\n",
    "        nodesCount = len(nodeValues)\n",
    "        eachNodeVal = 1 / nodesCount\n",
    "        # for handling duplicates\n",
    "        valDict = dict()\n",
    "        for val in nodeValues:\n",
    "            if valDict.get(val):\n",
    "                valDict[val] = valDict.get(val) + 1\n",
    "            else:\n",
    "                valDict[val] = 1\n",
    "\n",
    "        for nodeVal in list(set(nodeValues)):\n",
    "            # To match node and matrix indices: node = matrix indices + 1\n",
    "            count = valDict.get(nodeVal)\n",
    "            matrix[nodeVal-1][node-1] = count * float(eachNodeVal)\n",
    "    return matrix\n",
    "\n",
    "matrix = createMatrixFromGraph(graphEdges, numberOfNodes)"
   ]
  },
  {
   "cell_type": "code",
   "execution_count": 31,
   "metadata": {},
   "outputs": [],
   "source": [
    "def createMatrixFromGraphSparse(graph, size):\n",
    "    row = []\n",
    "    col = []\n",
    "    data = []\n",
    "    for node in graph.keys():\n",
    "        nodeKey = node\n",
    "        nodeValues = graph.get(node)\n",
    "        nodesCount = len(nodeValues)\n",
    "        eachNodeVal = 1 / nodesCount\n",
    "        # for handling duplicates\n",
    "        valDict = dict()\n",
    "        for val in nodeValues:\n",
    "            if valDict.get(val):\n",
    "                valDict[val] = valDict.get(val) + 1\n",
    "            else:\n",
    "                valDict[val] = 1\n",
    "        for nodeVal in list(set(nodeValues)):\n",
    "            # To match node and matrix indices: node = matrix indices + 1\n",
    "            count = valDict.get(nodeVal)\n",
    "            row.append(nodeVal-1)\n",
    "            col.append(node-1)\n",
    "            data.append(count * float(eachNodeVal))\n",
    "    matrix = sparse.csr_matrix((data, (row, col)), shape=(size, size))\n",
    "    return matrix\n",
    "\n",
    "sparseMatrix = createMatrixFromGraphSparse(graphEdges, numberOfNodes)\n"
   ]
  },
  {
   "cell_type": "code",
   "execution_count": 32,
   "metadata": {},
   "outputs": [
    {
     "name": "stdout",
     "output_type": "stream",
     "text": [
      "Number of non zero points is  2312497\n"
     ]
    }
   ],
   "source": [
    "numberOfNonZeroEdges = sparse.csr_matrix.count_nonzero(sparseMatrix)\n",
    "print('Number of non zero points is ',numberOfNonZeroEdges)"
   ]
  },
  {
   "cell_type": "code",
   "execution_count": 33,
   "metadata": {},
   "outputs": [],
   "source": [
    "# Given, 1 is one vector with nx1 entries of value 1\n",
    "one = np.ones((numberOfNodes,1))\n",
    "\n",
    "# initialising the r0\n",
    "r = 1/ float(numberOfNodes) * one"
   ]
  },
  {
   "cell_type": "code",
   "execution_count": 34,
   "metadata": {},
   "outputs": [
    {
     "name": "stdout",
     "output_type": "stream",
     "text": [
      "Number of iterations it took is  87\n"
     ]
    }
   ],
   "source": [
    "count = 0\n",
    "while True:\n",
    "    count += 1\n",
    "    rnew = ((1-beta)/numberOfNodes) * one + beta * sparseMatrix.dot(r)\n",
    "    l1Norm = np.linalg.norm((rnew - r), ord=1)\n",
    "    if l1Norm < tolerance:\n",
    "        break\n",
    "    r = rnew\n",
    "print('Number of iterations it took is ', count)\n",
    "    "
   ]
  },
  {
   "cell_type": "code",
   "execution_count": null,
   "metadata": {},
   "outputs": [],
   "source": []
  }
 ],
 "metadata": {
  "kernelspec": {
   "display_name": "Python 3",
   "language": "python",
   "name": "python3"
  },
  "language_info": {
   "codemirror_mode": {
    "name": "ipython",
    "version": 3
   },
   "file_extension": ".py",
   "mimetype": "text/x-python",
   "name": "python",
   "nbconvert_exporter": "python",
   "pygments_lexer": "ipython3",
   "version": "3.7.3"
  }
 },
 "nbformat": 4,
 "nbformat_minor": 4
}
